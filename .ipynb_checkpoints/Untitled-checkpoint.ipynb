{
 "cells": [
  {
   "cell_type": "markdown",
   "metadata": {},
   "source": [
    "Import the required libraries"
   ]
  },
  {
   "cell_type": "code",
   "execution_count": 1,
   "metadata": {},
   "outputs": [],
   "source": [
    "import pandas as pd\n",
    "import glob\n",
    "import matplotlib.pyplot as plt\n",
    "%matplotlib inline\n",
    "import seaborn as sb\n",
    "import numpy as np"
   ]
  },
  {
   "cell_type": "code",
   "execution_count": 2,
   "metadata": {},
   "outputs": [],
   "source": [
    "pd.set_option('display.max_columns', None)"
   ]
  },
  {
   "cell_type": "markdown",
   "metadata": {},
   "source": [
    "# Gather data"
   ]
  },
  {
   "cell_type": "code",
   "execution_count": 31,
   "metadata": {},
   "outputs": [],
   "source": [
    "# Set the path where the data files are located and gte full file path using glob library.\n",
    "# We are using data files for the year 2019.\n",
    "# though more data is available, due to limitations on how many files can be processed in a single machine, I am limiting the \\\n",
    "# data set to only 2019\n",
    "\n",
    "path = r'D:\\Rekha\\Data_Viz'  \n",
    "all_files = glob.glob(path + \"/*.csv\")"
   ]
  },
  {
   "cell_type": "code",
   "execution_count": 32,
   "metadata": {},
   "outputs": [
    {
     "name": "stdout",
     "output_type": "stream",
     "text": [
      "['D:\\\\Rekha\\\\Data_Viz\\\\201901-fordgobike-tripdata.csv', 'D:\\\\Rekha\\\\Data_Viz\\\\201902-fordgobike-tripdata.csv', 'D:\\\\Rekha\\\\Data_Viz\\\\201903-fordgobike-tripdata.csv', 'D:\\\\Rekha\\\\Data_Viz\\\\201904-fordgobike-tripdata.csv', 'D:\\\\Rekha\\\\Data_Viz\\\\201905-baywheels-tripdata.csv', 'D:\\\\Rekha\\\\Data_Viz\\\\201906-baywheels-tripdata.csv', 'D:\\\\Rekha\\\\Data_Viz\\\\201907-baywheels-tripdata.csv', 'D:\\\\Rekha\\\\Data_Viz\\\\201908-baywheels-tripdata.csv', 'D:\\\\Rekha\\\\Data_Viz\\\\201909-baywheels-tripdata.csv', 'D:\\\\Rekha\\\\Data_Viz\\\\201910-baywheels-tripdata.csv', 'D:\\\\Rekha\\\\Data_Viz\\\\201911-baywheels-tripdata.csv', 'D:\\\\Rekha\\\\Data_Viz\\\\201912-baywheels-tripdata.csv']\n"
     ]
    }
   ],
   "source": [
    "print(all_files)"
   ]
  },
  {
   "cell_type": "code",
   "execution_count": 33,
   "metadata": {},
   "outputs": [],
   "source": [
    "# go thru all the files and read them into dataframe by pandas library\n",
    "# At the end, concatenate all the dataframes\n",
    "li = []\n",
    "\n",
    "for filename in all_files:\n",
    "    df = pd.read_csv(filename, index_col=None, header=0,low_memory=False,error_bad_lines=False)\n",
    "    li.append(df)\n",
    "\n",
    "frame = pd.concat(li, axis=0, ignore_index=True,sort=False)\n"
   ]
  },
  {
   "cell_type": "markdown",
   "metadata": {},
   "source": [
    "# Assess"
   ]
  },
  {
   "cell_type": "code",
   "execution_count": 21,
   "metadata": {},
   "outputs": [
    {
     "name": "stdout",
     "output_type": "stream",
     "text": [
      "(2506983, 15)\n",
      "duration_sec                 int64\n",
      "start_time                  object\n",
      "end_time                    object\n",
      "start_station_id           float64\n",
      "start_station_name          object\n",
      "start_station_latitude     float64\n",
      "start_station_longitude    float64\n",
      "end_station_id             float64\n",
      "end_station_name            object\n",
      "end_station_latitude       float64\n",
      "end_station_longitude      float64\n",
      "bike_id                      int64\n",
      "user_type                   object\n",
      "bike_share_for_all_trip     object\n",
      "rental_access_method        object\n",
      "dtype: object\n"
     ]
    }
   ],
   "source": [
    "print(frame.shape)\n",
    "print(frame.dtypes)\n"
   ]
  },
  {
   "cell_type": "code",
   "execution_count": 120,
   "metadata": {},
   "outputs": [
    {
     "data": {
      "text/html": [
       "<div>\n",
       "<style scoped>\n",
       "    .dataframe tbody tr th:only-of-type {\n",
       "        vertical-align: middle;\n",
       "    }\n",
       "\n",
       "    .dataframe tbody tr th {\n",
       "        vertical-align: top;\n",
       "    }\n",
       "\n",
       "    .dataframe thead th {\n",
       "        text-align: right;\n",
       "    }\n",
       "</style>\n",
       "<table border=\"1\" class=\"dataframe\">\n",
       "  <thead>\n",
       "    <tr style=\"text-align: right;\">\n",
       "      <th></th>\n",
       "      <th>duration_sec</th>\n",
       "      <th>start_time</th>\n",
       "      <th>end_time</th>\n",
       "      <th>start_station_id</th>\n",
       "      <th>start_station_name</th>\n",
       "      <th>start_station_latitude</th>\n",
       "      <th>start_station_longitude</th>\n",
       "      <th>end_station_id</th>\n",
       "      <th>end_station_name</th>\n",
       "      <th>end_station_latitude</th>\n",
       "      <th>end_station_longitude</th>\n",
       "      <th>bike_id</th>\n",
       "      <th>user_type</th>\n",
       "      <th>bike_share_for_all_trip</th>\n",
       "      <th>rental_access_method</th>\n",
       "    </tr>\n",
       "  </thead>\n",
       "  <tbody>\n",
       "    <tr>\n",
       "      <th>0</th>\n",
       "      <td>80825</td>\n",
       "      <td>2019-01-31 17:57:44.6130</td>\n",
       "      <td>2019-02-01 16:24:49.8640</td>\n",
       "      <td>229.0</td>\n",
       "      <td>Foothill Blvd at 42nd Ave</td>\n",
       "      <td>37.775745</td>\n",
       "      <td>-122.213037</td>\n",
       "      <td>196.0</td>\n",
       "      <td>Grand Ave at Perkins St</td>\n",
       "      <td>37.808894</td>\n",
       "      <td>-122.256460</td>\n",
       "      <td>4861</td>\n",
       "      <td>Subscriber</td>\n",
       "      <td>No</td>\n",
       "      <td>NaN</td>\n",
       "    </tr>\n",
       "    <tr>\n",
       "      <th>1</th>\n",
       "      <td>65900</td>\n",
       "      <td>2019-01-31 20:58:33.8860</td>\n",
       "      <td>2019-02-01 15:16:54.1730</td>\n",
       "      <td>4.0</td>\n",
       "      <td>Cyril Magnin St at Ellis St</td>\n",
       "      <td>37.785881</td>\n",
       "      <td>-122.408915</td>\n",
       "      <td>134.0</td>\n",
       "      <td>Valencia St at 24th St</td>\n",
       "      <td>37.752428</td>\n",
       "      <td>-122.420628</td>\n",
       "      <td>5506</td>\n",
       "      <td>Subscriber</td>\n",
       "      <td>No</td>\n",
       "      <td>NaN</td>\n",
       "    </tr>\n",
       "    <tr>\n",
       "      <th>2</th>\n",
       "      <td>62633</td>\n",
       "      <td>2019-01-31 18:06:52.9240</td>\n",
       "      <td>2019-02-01 11:30:46.5300</td>\n",
       "      <td>245.0</td>\n",
       "      <td>Downtown Berkeley BART</td>\n",
       "      <td>37.870139</td>\n",
       "      <td>-122.268422</td>\n",
       "      <td>157.0</td>\n",
       "      <td>65th St at Hollis St</td>\n",
       "      <td>37.846784</td>\n",
       "      <td>-122.291376</td>\n",
       "      <td>2717</td>\n",
       "      <td>Customer</td>\n",
       "      <td>No</td>\n",
       "      <td>NaN</td>\n",
       "    </tr>\n",
       "    <tr>\n",
       "      <th>3</th>\n",
       "      <td>44680</td>\n",
       "      <td>2019-01-31 19:46:09.7190</td>\n",
       "      <td>2019-02-01 08:10:50.3180</td>\n",
       "      <td>85.0</td>\n",
       "      <td>Church St at Duboce Ave</td>\n",
       "      <td>37.770083</td>\n",
       "      <td>-122.429156</td>\n",
       "      <td>53.0</td>\n",
       "      <td>Grove St at Divisadero</td>\n",
       "      <td>37.775946</td>\n",
       "      <td>-122.437777</td>\n",
       "      <td>4557</td>\n",
       "      <td>Customer</td>\n",
       "      <td>No</td>\n",
       "      <td>NaN</td>\n",
       "    </tr>\n",
       "    <tr>\n",
       "      <th>4</th>\n",
       "      <td>60709</td>\n",
       "      <td>2019-01-31 14:19:01.5410</td>\n",
       "      <td>2019-02-01 07:10:51.0650</td>\n",
       "      <td>16.0</td>\n",
       "      <td>Steuart St at Market St</td>\n",
       "      <td>37.794130</td>\n",
       "      <td>-122.394430</td>\n",
       "      <td>28.0</td>\n",
       "      <td>The Embarcadero at Bryant St</td>\n",
       "      <td>37.787168</td>\n",
       "      <td>-122.388098</td>\n",
       "      <td>2100</td>\n",
       "      <td>Customer</td>\n",
       "      <td>No</td>\n",
       "      <td>NaN</td>\n",
       "    </tr>\n",
       "    <tr>\n",
       "      <th>5</th>\n",
       "      <td>6733</td>\n",
       "      <td>2019-01-31 22:35:50.8130</td>\n",
       "      <td>2019-02-01 00:28:04.5120</td>\n",
       "      <td>245.0</td>\n",
       "      <td>Downtown Berkeley BART</td>\n",
       "      <td>37.870139</td>\n",
       "      <td>-122.268422</td>\n",
       "      <td>266.0</td>\n",
       "      <td>Parker St at Fulton St</td>\n",
       "      <td>37.862464</td>\n",
       "      <td>-122.264791</td>\n",
       "      <td>3532</td>\n",
       "      <td>Subscriber</td>\n",
       "      <td>No</td>\n",
       "      <td>NaN</td>\n",
       "    </tr>\n",
       "    <tr>\n",
       "      <th>6</th>\n",
       "      <td>1188</td>\n",
       "      <td>2019-01-31 23:54:38.9010</td>\n",
       "      <td>2019-02-01 00:14:27.9000</td>\n",
       "      <td>34.0</td>\n",
       "      <td>Father Alfred E Boeddeker Park</td>\n",
       "      <td>37.783988</td>\n",
       "      <td>-122.412408</td>\n",
       "      <td>146.0</td>\n",
       "      <td>30th St at San Jose Ave</td>\n",
       "      <td>37.742314</td>\n",
       "      <td>-122.423180</td>\n",
       "      <td>5114</td>\n",
       "      <td>Subscriber</td>\n",
       "      <td>No</td>\n",
       "      <td>NaN</td>\n",
       "    </tr>\n",
       "    <tr>\n",
       "      <th>7</th>\n",
       "      <td>1254</td>\n",
       "      <td>2019-01-31 23:48:50.0920</td>\n",
       "      <td>2019-02-01 00:09:44.4970</td>\n",
       "      <td>318.0</td>\n",
       "      <td>San Carlos St at Market St</td>\n",
       "      <td>37.330698</td>\n",
       "      <td>-121.888979</td>\n",
       "      <td>314.0</td>\n",
       "      <td>Santa Clara St at Almaden Blvd</td>\n",
       "      <td>37.333988</td>\n",
       "      <td>-121.894902</td>\n",
       "      <td>3967</td>\n",
       "      <td>Subscriber</td>\n",
       "      <td>No</td>\n",
       "      <td>NaN</td>\n",
       "    </tr>\n",
       "    <tr>\n",
       "      <th>8</th>\n",
       "      <td>3153</td>\n",
       "      <td>2019-01-31 23:17:05.4620</td>\n",
       "      <td>2019-02-01 00:09:39.4570</td>\n",
       "      <td>29.0</td>\n",
       "      <td>O'Farrell St at Divisadero St</td>\n",
       "      <td>37.782405</td>\n",
       "      <td>-122.439446</td>\n",
       "      <td>70.0</td>\n",
       "      <td>Central Ave at Fell St</td>\n",
       "      <td>37.773311</td>\n",
       "      <td>-122.444293</td>\n",
       "      <td>4813</td>\n",
       "      <td>Subscriber</td>\n",
       "      <td>No</td>\n",
       "      <td>NaN</td>\n",
       "    </tr>\n",
       "    <tr>\n",
       "      <th>9</th>\n",
       "      <td>323</td>\n",
       "      <td>2019-01-31 23:59:47.5680</td>\n",
       "      <td>2019-02-01 00:05:11.1770</td>\n",
       "      <td>223.0</td>\n",
       "      <td>16th St Mission BART Station 2</td>\n",
       "      <td>37.764765</td>\n",
       "      <td>-122.420091</td>\n",
       "      <td>129.0</td>\n",
       "      <td>Harrison St at 20th St</td>\n",
       "      <td>37.758862</td>\n",
       "      <td>-122.412544</td>\n",
       "      <td>1976</td>\n",
       "      <td>Subscriber</td>\n",
       "      <td>No</td>\n",
       "      <td>NaN</td>\n",
       "    </tr>\n",
       "  </tbody>\n",
       "</table>\n",
       "</div>"
      ],
      "text/plain": [
       "   duration_sec                start_time                  end_time  \\\n",
       "0         80825  2019-01-31 17:57:44.6130  2019-02-01 16:24:49.8640   \n",
       "1         65900  2019-01-31 20:58:33.8860  2019-02-01 15:16:54.1730   \n",
       "2         62633  2019-01-31 18:06:52.9240  2019-02-01 11:30:46.5300   \n",
       "3         44680  2019-01-31 19:46:09.7190  2019-02-01 08:10:50.3180   \n",
       "4         60709  2019-01-31 14:19:01.5410  2019-02-01 07:10:51.0650   \n",
       "5          6733  2019-01-31 22:35:50.8130  2019-02-01 00:28:04.5120   \n",
       "6          1188  2019-01-31 23:54:38.9010  2019-02-01 00:14:27.9000   \n",
       "7          1254  2019-01-31 23:48:50.0920  2019-02-01 00:09:44.4970   \n",
       "8          3153  2019-01-31 23:17:05.4620  2019-02-01 00:09:39.4570   \n",
       "9           323  2019-01-31 23:59:47.5680  2019-02-01 00:05:11.1770   \n",
       "\n",
       "   start_station_id              start_station_name  start_station_latitude  \\\n",
       "0             229.0       Foothill Blvd at 42nd Ave               37.775745   \n",
       "1               4.0     Cyril Magnin St at Ellis St               37.785881   \n",
       "2             245.0          Downtown Berkeley BART               37.870139   \n",
       "3              85.0         Church St at Duboce Ave               37.770083   \n",
       "4              16.0         Steuart St at Market St               37.794130   \n",
       "5             245.0          Downtown Berkeley BART               37.870139   \n",
       "6              34.0  Father Alfred E Boeddeker Park               37.783988   \n",
       "7             318.0      San Carlos St at Market St               37.330698   \n",
       "8              29.0   O'Farrell St at Divisadero St               37.782405   \n",
       "9             223.0  16th St Mission BART Station 2               37.764765   \n",
       "\n",
       "   start_station_longitude  end_station_id                end_station_name  \\\n",
       "0              -122.213037           196.0         Grand Ave at Perkins St   \n",
       "1              -122.408915           134.0          Valencia St at 24th St   \n",
       "2              -122.268422           157.0            65th St at Hollis St   \n",
       "3              -122.429156            53.0          Grove St at Divisadero   \n",
       "4              -122.394430            28.0    The Embarcadero at Bryant St   \n",
       "5              -122.268422           266.0          Parker St at Fulton St   \n",
       "6              -122.412408           146.0         30th St at San Jose Ave   \n",
       "7              -121.888979           314.0  Santa Clara St at Almaden Blvd   \n",
       "8              -122.439446            70.0          Central Ave at Fell St   \n",
       "9              -122.420091           129.0          Harrison St at 20th St   \n",
       "\n",
       "   end_station_latitude  end_station_longitude  bike_id   user_type  \\\n",
       "0             37.808894            -122.256460     4861  Subscriber   \n",
       "1             37.752428            -122.420628     5506  Subscriber   \n",
       "2             37.846784            -122.291376     2717    Customer   \n",
       "3             37.775946            -122.437777     4557    Customer   \n",
       "4             37.787168            -122.388098     2100    Customer   \n",
       "5             37.862464            -122.264791     3532  Subscriber   \n",
       "6             37.742314            -122.423180     5114  Subscriber   \n",
       "7             37.333988            -121.894902     3967  Subscriber   \n",
       "8             37.773311            -122.444293     4813  Subscriber   \n",
       "9             37.758862            -122.412544     1976  Subscriber   \n",
       "\n",
       "  bike_share_for_all_trip rental_access_method  \n",
       "0                      No                  NaN  \n",
       "1                      No                  NaN  \n",
       "2                      No                  NaN  \n",
       "3                      No                  NaN  \n",
       "4                      No                  NaN  \n",
       "5                      No                  NaN  \n",
       "6                      No                  NaN  \n",
       "7                      No                  NaN  \n",
       "8                      No                  NaN  \n",
       "9                      No                  NaN  "
      ]
     },
     "execution_count": 120,
     "metadata": {},
     "output_type": "execute_result"
    }
   ],
   "source": [
    "frame.head(10)"
   ]
  },
  {
   "cell_type": "code",
   "execution_count": 11,
   "metadata": {},
   "outputs": [
    {
     "data": {
      "text/html": [
       "<div>\n",
       "<style scoped>\n",
       "    .dataframe tbody tr th:only-of-type {\n",
       "        vertical-align: middle;\n",
       "    }\n",
       "\n",
       "    .dataframe tbody tr th {\n",
       "        vertical-align: top;\n",
       "    }\n",
       "\n",
       "    .dataframe thead th {\n",
       "        text-align: right;\n",
       "    }\n",
       "</style>\n",
       "<table border=\"1\" class=\"dataframe\">\n",
       "  <thead>\n",
       "    <tr style=\"text-align: right;\">\n",
       "      <th></th>\n",
       "      <th>duration_sec</th>\n",
       "      <th>start_station_id</th>\n",
       "      <th>start_station_latitude</th>\n",
       "      <th>start_station_longitude</th>\n",
       "      <th>end_station_id</th>\n",
       "      <th>end_station_latitude</th>\n",
       "      <th>end_station_longitude</th>\n",
       "      <th>bike_id</th>\n",
       "    </tr>\n",
       "  </thead>\n",
       "  <tbody>\n",
       "    <tr>\n",
       "      <th>count</th>\n",
       "      <td>2.506983e+06</td>\n",
       "      <td>2.426249e+06</td>\n",
       "      <td>2.506983e+06</td>\n",
       "      <td>2.506983e+06</td>\n",
       "      <td>2.424081e+06</td>\n",
       "      <td>2.506983e+06</td>\n",
       "      <td>2.506983e+06</td>\n",
       "      <td>2.506983e+06</td>\n",
       "    </tr>\n",
       "    <tr>\n",
       "      <th>mean</th>\n",
       "      <td>8.076483e+02</td>\n",
       "      <td>1.465047e+02</td>\n",
       "      <td>3.776506e+01</td>\n",
       "      <td>-1.223499e+02</td>\n",
       "      <td>1.427044e+02</td>\n",
       "      <td>3.776422e+01</td>\n",
       "      <td>-1.223459e+02</td>\n",
       "      <td>2.789833e+04</td>\n",
       "    </tr>\n",
       "    <tr>\n",
       "      <th>std</th>\n",
       "      <td>1.974714e+03</td>\n",
       "      <td>1.223171e+02</td>\n",
       "      <td>1.363698e-01</td>\n",
       "      <td>3.089648e-01</td>\n",
       "      <td>1.214296e+02</td>\n",
       "      <td>2.392885e-01</td>\n",
       "      <td>7.080417e-01</td>\n",
       "      <td>1.146067e+05</td>\n",
       "    </tr>\n",
       "    <tr>\n",
       "      <th>min</th>\n",
       "      <td>6.000000e+01</td>\n",
       "      <td>3.000000e+00</td>\n",
       "      <td>0.000000e+00</td>\n",
       "      <td>-1.225143e+02</td>\n",
       "      <td>3.000000e+00</td>\n",
       "      <td>0.000000e+00</td>\n",
       "      <td>-1.225143e+02</td>\n",
       "      <td>4.000000e+00</td>\n",
       "    </tr>\n",
       "    <tr>\n",
       "      <th>25%</th>\n",
       "      <td>3.590000e+02</td>\n",
       "      <td>4.700000e+01</td>\n",
       "      <td>3.776931e+01</td>\n",
       "      <td>-1.224130e+02</td>\n",
       "      <td>4.300000e+01</td>\n",
       "      <td>3.777003e+01</td>\n",
       "      <td>-1.224117e+02</td>\n",
       "      <td>1.952000e+03</td>\n",
       "    </tr>\n",
       "    <tr>\n",
       "      <th>50%</th>\n",
       "      <td>5.710000e+02</td>\n",
       "      <td>1.050000e+02</td>\n",
       "      <td>3.778053e+01</td>\n",
       "      <td>-1.223983e+02</td>\n",
       "      <td>1.010000e+02</td>\n",
       "      <td>3.778076e+01</td>\n",
       "      <td>-1.223981e+02</td>\n",
       "      <td>4.420000e+03</td>\n",
       "    </tr>\n",
       "    <tr>\n",
       "      <th>75%</th>\n",
       "      <td>8.870000e+02</td>\n",
       "      <td>2.430000e+02</td>\n",
       "      <td>3.779539e+01</td>\n",
       "      <td>-1.222914e+02</td>\n",
       "      <td>2.390000e+02</td>\n",
       "      <td>3.779587e+01</td>\n",
       "      <td>-1.222934e+02</td>\n",
       "      <td>9.682000e+03</td>\n",
       "    </tr>\n",
       "    <tr>\n",
       "      <th>max</th>\n",
       "      <td>9.121100e+05</td>\n",
       "      <td>4.980000e+02</td>\n",
       "      <td>4.551000e+01</td>\n",
       "      <td>0.000000e+00</td>\n",
       "      <td>4.980000e+02</td>\n",
       "      <td>4.551000e+01</td>\n",
       "      <td>0.000000e+00</td>\n",
       "      <td>9.999410e+05</td>\n",
       "    </tr>\n",
       "  </tbody>\n",
       "</table>\n",
       "</div>"
      ],
      "text/plain": [
       "       duration_sec  start_station_id  start_station_latitude  \\\n",
       "count  2.506983e+06      2.426249e+06            2.506983e+06   \n",
       "mean   8.076483e+02      1.465047e+02            3.776506e+01   \n",
       "std    1.974714e+03      1.223171e+02            1.363698e-01   \n",
       "min    6.000000e+01      3.000000e+00            0.000000e+00   \n",
       "25%    3.590000e+02      4.700000e+01            3.776931e+01   \n",
       "50%    5.710000e+02      1.050000e+02            3.778053e+01   \n",
       "75%    8.870000e+02      2.430000e+02            3.779539e+01   \n",
       "max    9.121100e+05      4.980000e+02            4.551000e+01   \n",
       "\n",
       "       start_station_longitude  end_station_id  end_station_latitude  \\\n",
       "count             2.506983e+06    2.424081e+06          2.506983e+06   \n",
       "mean             -1.223499e+02    1.427044e+02          3.776422e+01   \n",
       "std               3.089648e-01    1.214296e+02          2.392885e-01   \n",
       "min              -1.225143e+02    3.000000e+00          0.000000e+00   \n",
       "25%              -1.224130e+02    4.300000e+01          3.777003e+01   \n",
       "50%              -1.223983e+02    1.010000e+02          3.778076e+01   \n",
       "75%              -1.222914e+02    2.390000e+02          3.779587e+01   \n",
       "max               0.000000e+00    4.980000e+02          4.551000e+01   \n",
       "\n",
       "       end_station_longitude       bike_id  \n",
       "count           2.506983e+06  2.506983e+06  \n",
       "mean           -1.223459e+02  2.789833e+04  \n",
       "std             7.080417e-01  1.146067e+05  \n",
       "min            -1.225143e+02  4.000000e+00  \n",
       "25%            -1.224117e+02  1.952000e+03  \n",
       "50%            -1.223981e+02  4.420000e+03  \n",
       "75%            -1.222934e+02  9.682000e+03  \n",
       "max             0.000000e+00  9.999410e+05  "
      ]
     },
     "execution_count": 11,
     "metadata": {},
     "output_type": "execute_result"
    }
   ],
   "source": [
    "frame.describe()"
   ]
  },
  {
   "cell_type": "code",
   "execution_count": 14,
   "metadata": {},
   "outputs": [
    {
     "data": {
      "text/plain": [
       "duration_sec                     0\n",
       "start_time                       0\n",
       "end_time                         0\n",
       "start_station_id             80734\n",
       "start_station_name           80133\n",
       "start_station_latitude           0\n",
       "start_station_longitude          0\n",
       "end_station_id               82902\n",
       "end_station_name             82350\n",
       "end_station_latitude             0\n",
       "end_station_longitude            0\n",
       "bike_id                          0\n",
       "user_type                        0\n",
       "bike_share_for_all_trip     243259\n",
       "rental_access_method       2386145\n",
       "dtype: int64"
      ]
     },
     "execution_count": 14,
     "metadata": {},
     "output_type": "execute_result"
    }
   ],
   "source": [
    "frame.isnull().sum()\n",
    "#\n",
    "# We see that around 80K records do not have station ID/Name information\n",
    "#\n",
    "#\n",
    "#"
   ]
  },
  {
   "cell_type": "code",
   "execution_count": 15,
   "metadata": {},
   "outputs": [
    {
     "data": {
      "text/plain": [
       "Subscriber    2021166\n",
       "Customer       485817\n",
       "Name: user_type, dtype: int64"
      ]
     },
     "execution_count": 15,
     "metadata": {},
     "output_type": "execute_result"
    }
   ],
   "source": [
    "# what are differnet user types\n",
    "frame['user_type'].value_counts()"
   ]
  },
  {
   "cell_type": "code",
   "execution_count": 17,
   "metadata": {},
   "outputs": [
    {
     "data": {
      "text/plain": [
       "app        108010\n",
       "clipper     12828\n",
       "Name: rental_access_method, dtype: int64"
      ]
     },
     "execution_count": 17,
     "metadata": {},
     "output_type": "execute_result"
    }
   ],
   "source": [
    "# what are the different rental access method used\n",
    "# looks like most are from app.\n",
    "frame['rental_access_method'].value_counts()"
   ]
  },
  {
   "cell_type": "code",
   "execution_count": 18,
   "metadata": {},
   "outputs": [
    {
     "data": {
      "text/plain": [
       "No     2086152\n",
       "Yes     177572\n",
       "Name: bike_share_for_all_trip, dtype: int64"
      ]
     },
     "execution_count": 18,
     "metadata": {},
     "output_type": "execute_result"
    }
   ],
   "source": [
    "# what are the different bike_share_for_all_trip\n",
    "# looks like bike_share_for_all_trip is kind of membership program\n",
    "frame['bike_share_for_all_trip'].value_counts()"
   ]
  },
  {
   "cell_type": "code",
   "execution_count": 38,
   "metadata": {},
   "outputs": [
    {
     "data": {
      "text/plain": [
       "0"
      ]
     },
     "execution_count": 38,
     "metadata": {},
     "output_type": "execute_result"
    }
   ],
   "source": [
    "frame.duplicated().sum()"
   ]
  },
  {
   "cell_type": "code",
   "execution_count": 113,
   "metadata": {},
   "outputs": [
    {
     "data": {
      "text/plain": [
       "('2019-12-31 23:59:41', '2019-01-01 00:07:10.5760')"
      ]
     },
     "execution_count": 113,
     "metadata": {},
     "output_type": "execute_result"
    }
   ],
   "source": [
    "# Find out about the time span of bike_share_for_all_trip\n",
    "frame[frame.bike_share_for_all_trip.isna()]['start_time'].max(), frame[frame.bike_share_for_all_trip.notna()]['start_time'].min()"
   ]
  },
  {
   "cell_type": "code",
   "execution_count": 114,
   "metadata": {},
   "outputs": [
    {
     "data": {
      "text/html": [
       "<div>\n",
       "<style scoped>\n",
       "    .dataframe tbody tr th:only-of-type {\n",
       "        vertical-align: middle;\n",
       "    }\n",
       "\n",
       "    .dataframe tbody tr th {\n",
       "        vertical-align: top;\n",
       "    }\n",
       "\n",
       "    .dataframe thead th {\n",
       "        text-align: right;\n",
       "    }\n",
       "</style>\n",
       "<table border=\"1\" class=\"dataframe\">\n",
       "  <thead>\n",
       "    <tr style=\"text-align: right;\">\n",
       "      <th></th>\n",
       "      <th>user_type</th>\n",
       "      <th>bike_share_for_all_trip</th>\n",
       "    </tr>\n",
       "  </thead>\n",
       "  <tbody>\n",
       "    <tr>\n",
       "      <th>0</th>\n",
       "      <td>Subscriber</td>\n",
       "      <td>No</td>\n",
       "    </tr>\n",
       "    <tr>\n",
       "      <th>2</th>\n",
       "      <td>Customer</td>\n",
       "      <td>No</td>\n",
       "    </tr>\n",
       "    <tr>\n",
       "      <th>12</th>\n",
       "      <td>Subscriber</td>\n",
       "      <td>Yes</td>\n",
       "    </tr>\n",
       "    <tr>\n",
       "      <th>1240946</th>\n",
       "      <td>Customer</td>\n",
       "      <td>NaN</td>\n",
       "    </tr>\n",
       "    <tr>\n",
       "      <th>1240950</th>\n",
       "      <td>Subscriber</td>\n",
       "      <td>NaN</td>\n",
       "    </tr>\n",
       "  </tbody>\n",
       "</table>\n",
       "</div>"
      ],
      "text/plain": [
       "          user_type bike_share_for_all_trip\n",
       "0        Subscriber                      No\n",
       "2          Customer                      No\n",
       "12       Subscriber                     Yes\n",
       "1240946    Customer                     NaN\n",
       "1240950  Subscriber                     NaN"
      ]
     },
     "execution_count": 114,
     "metadata": {},
     "output_type": "execute_result"
    }
   ],
   "source": [
    "# Find out about logical relation between user_type and bike_share_for_all\n",
    "frame[['user_type', 'bike_share_for_all_trip']].drop_duplicates()"
   ]
  },
  {
   "cell_type": "markdown",
   "metadata": {},
   "source": [
    "# Clean\n",
    "\n",
    "## Define\n",
    "\n",
    "* Some fields have NULL values. start_station_id , start_station_name , end_station_id , end_station_name , bike_share_for_all_trip , rental_access_method\n",
    "\n",
    "* Start and End time are in in date format\n",
    "* Add column Month, week, Hour by extracting Start_Time\n",
    "* Convert Duration to Minutes from seconds"
   ]
  },
  {
   "cell_type": "code",
   "execution_count": 34,
   "metadata": {},
   "outputs": [],
   "source": [
    "# make a copt of original data frame\n",
    "bike_clean_df = frame.copy()"
   ]
  },
  {
   "cell_type": "code",
   "execution_count": 35,
   "metadata": {},
   "outputs": [],
   "source": [
    "# convert start/end time to datetime format\n",
    "bike_clean_df.start_time = pd.to_datetime(bike_clean_df.start_time )\n",
    "bike_clean_df.end_time = pd.to_datetime(bike_clean_df.end_time )"
   ]
  },
  {
   "cell_type": "code",
   "execution_count": 36,
   "metadata": {},
   "outputs": [],
   "source": [
    "# convert User_Type to category to help in drawing plot\n",
    "bike_clean_df.user_type = bike_clean_df.user_type.astype('category')"
   ]
  },
  {
   "cell_type": "code",
   "execution_count": 37,
   "metadata": {},
   "outputs": [],
   "source": [
    "# add colum n for Month\n",
    "bike_clean_df['month'] = bike_clean_df[\"start_time\"].dt.strftime('%B')"
   ]
  },
  {
   "cell_type": "code",
   "execution_count": 38,
   "metadata": {},
   "outputs": [],
   "source": [
    "# add column for day\n",
    "bike_clean_df['day'] = bike_clean_df[\"start_time\"].dt.strftime('%a')"
   ]
  },
  {
   "cell_type": "code",
   "execution_count": 39,
   "metadata": {},
   "outputs": [],
   "source": [
    "# add column for Hour\n",
    "bike_clean_df['hour'] = bike_clean_df[\"start_time\"].dt.hour"
   ]
  },
  {
   "cell_type": "code",
   "execution_count": 46,
   "metadata": {},
   "outputs": [],
   "source": [
    "# convert duration to minutes\n",
    "bike_clean_df['duration_mins'] = round(bike_clean_df['duration_sec'] / 60 )"
   ]
  },
  {
   "cell_type": "code",
   "execution_count": 47,
   "metadata": {},
   "outputs": [
    {
     "data": {
      "text/html": [
       "<div>\n",
       "<style scoped>\n",
       "    .dataframe tbody tr th:only-of-type {\n",
       "        vertical-align: middle;\n",
       "    }\n",
       "\n",
       "    .dataframe tbody tr th {\n",
       "        vertical-align: top;\n",
       "    }\n",
       "\n",
       "    .dataframe thead th {\n",
       "        text-align: right;\n",
       "    }\n",
       "</style>\n",
       "<table border=\"1\" class=\"dataframe\">\n",
       "  <thead>\n",
       "    <tr style=\"text-align: right;\">\n",
       "      <th></th>\n",
       "      <th>duration_sec</th>\n",
       "      <th>start_time</th>\n",
       "      <th>end_time</th>\n",
       "      <th>start_station_latitude</th>\n",
       "      <th>start_station_longitude</th>\n",
       "      <th>end_station_latitude</th>\n",
       "      <th>end_station_longitude</th>\n",
       "      <th>bike_id</th>\n",
       "      <th>user_type</th>\n",
       "      <th>bike_share_for_all_trip</th>\n",
       "      <th>rental_access_method</th>\n",
       "      <th>month</th>\n",
       "      <th>day</th>\n",
       "      <th>hour</th>\n",
       "      <th>duration_mins</th>\n",
       "    </tr>\n",
       "  </thead>\n",
       "  <tbody>\n",
       "    <tr>\n",
       "      <th>0</th>\n",
       "      <td>80825</td>\n",
       "      <td>2019-01-31 17:57:44.613</td>\n",
       "      <td>2019-02-01 16:24:49.864</td>\n",
       "      <td>37.775745</td>\n",
       "      <td>-122.213037</td>\n",
       "      <td>37.808894</td>\n",
       "      <td>-122.256460</td>\n",
       "      <td>4861</td>\n",
       "      <td>Subscriber</td>\n",
       "      <td>No</td>\n",
       "      <td>NaN</td>\n",
       "      <td>January</td>\n",
       "      <td>Thu</td>\n",
       "      <td>17</td>\n",
       "      <td>1347.0</td>\n",
       "    </tr>\n",
       "    <tr>\n",
       "      <th>1</th>\n",
       "      <td>65900</td>\n",
       "      <td>2019-01-31 20:58:33.886</td>\n",
       "      <td>2019-02-01 15:16:54.173</td>\n",
       "      <td>37.785881</td>\n",
       "      <td>-122.408915</td>\n",
       "      <td>37.752428</td>\n",
       "      <td>-122.420628</td>\n",
       "      <td>5506</td>\n",
       "      <td>Subscriber</td>\n",
       "      <td>No</td>\n",
       "      <td>NaN</td>\n",
       "      <td>January</td>\n",
       "      <td>Thu</td>\n",
       "      <td>20</td>\n",
       "      <td>1098.0</td>\n",
       "    </tr>\n",
       "    <tr>\n",
       "      <th>2</th>\n",
       "      <td>62633</td>\n",
       "      <td>2019-01-31 18:06:52.924</td>\n",
       "      <td>2019-02-01 11:30:46.530</td>\n",
       "      <td>37.870139</td>\n",
       "      <td>-122.268422</td>\n",
       "      <td>37.846784</td>\n",
       "      <td>-122.291376</td>\n",
       "      <td>2717</td>\n",
       "      <td>Customer</td>\n",
       "      <td>No</td>\n",
       "      <td>NaN</td>\n",
       "      <td>January</td>\n",
       "      <td>Thu</td>\n",
       "      <td>18</td>\n",
       "      <td>1044.0</td>\n",
       "    </tr>\n",
       "    <tr>\n",
       "      <th>3</th>\n",
       "      <td>44680</td>\n",
       "      <td>2019-01-31 19:46:09.719</td>\n",
       "      <td>2019-02-01 08:10:50.318</td>\n",
       "      <td>37.770083</td>\n",
       "      <td>-122.429156</td>\n",
       "      <td>37.775946</td>\n",
       "      <td>-122.437777</td>\n",
       "      <td>4557</td>\n",
       "      <td>Customer</td>\n",
       "      <td>No</td>\n",
       "      <td>NaN</td>\n",
       "      <td>January</td>\n",
       "      <td>Thu</td>\n",
       "      <td>19</td>\n",
       "      <td>745.0</td>\n",
       "    </tr>\n",
       "    <tr>\n",
       "      <th>4</th>\n",
       "      <td>60709</td>\n",
       "      <td>2019-01-31 14:19:01.541</td>\n",
       "      <td>2019-02-01 07:10:51.065</td>\n",
       "      <td>37.794130</td>\n",
       "      <td>-122.394430</td>\n",
       "      <td>37.787168</td>\n",
       "      <td>-122.388098</td>\n",
       "      <td>2100</td>\n",
       "      <td>Customer</td>\n",
       "      <td>No</td>\n",
       "      <td>NaN</td>\n",
       "      <td>January</td>\n",
       "      <td>Thu</td>\n",
       "      <td>14</td>\n",
       "      <td>1012.0</td>\n",
       "    </tr>\n",
       "    <tr>\n",
       "      <th>5</th>\n",
       "      <td>6733</td>\n",
       "      <td>2019-01-31 22:35:50.813</td>\n",
       "      <td>2019-02-01 00:28:04.512</td>\n",
       "      <td>37.870139</td>\n",
       "      <td>-122.268422</td>\n",
       "      <td>37.862464</td>\n",
       "      <td>-122.264791</td>\n",
       "      <td>3532</td>\n",
       "      <td>Subscriber</td>\n",
       "      <td>No</td>\n",
       "      <td>NaN</td>\n",
       "      <td>January</td>\n",
       "      <td>Thu</td>\n",
       "      <td>22</td>\n",
       "      <td>112.0</td>\n",
       "    </tr>\n",
       "    <tr>\n",
       "      <th>6</th>\n",
       "      <td>1188</td>\n",
       "      <td>2019-01-31 23:54:38.901</td>\n",
       "      <td>2019-02-01 00:14:27.900</td>\n",
       "      <td>37.783988</td>\n",
       "      <td>-122.412408</td>\n",
       "      <td>37.742314</td>\n",
       "      <td>-122.423180</td>\n",
       "      <td>5114</td>\n",
       "      <td>Subscriber</td>\n",
       "      <td>No</td>\n",
       "      <td>NaN</td>\n",
       "      <td>January</td>\n",
       "      <td>Thu</td>\n",
       "      <td>23</td>\n",
       "      <td>20.0</td>\n",
       "    </tr>\n",
       "    <tr>\n",
       "      <th>7</th>\n",
       "      <td>1254</td>\n",
       "      <td>2019-01-31 23:48:50.092</td>\n",
       "      <td>2019-02-01 00:09:44.497</td>\n",
       "      <td>37.330698</td>\n",
       "      <td>-121.888979</td>\n",
       "      <td>37.333988</td>\n",
       "      <td>-121.894902</td>\n",
       "      <td>3967</td>\n",
       "      <td>Subscriber</td>\n",
       "      <td>No</td>\n",
       "      <td>NaN</td>\n",
       "      <td>January</td>\n",
       "      <td>Thu</td>\n",
       "      <td>23</td>\n",
       "      <td>21.0</td>\n",
       "    </tr>\n",
       "    <tr>\n",
       "      <th>8</th>\n",
       "      <td>3153</td>\n",
       "      <td>2019-01-31 23:17:05.462</td>\n",
       "      <td>2019-02-01 00:09:39.457</td>\n",
       "      <td>37.782405</td>\n",
       "      <td>-122.439446</td>\n",
       "      <td>37.773311</td>\n",
       "      <td>-122.444293</td>\n",
       "      <td>4813</td>\n",
       "      <td>Subscriber</td>\n",
       "      <td>No</td>\n",
       "      <td>NaN</td>\n",
       "      <td>January</td>\n",
       "      <td>Thu</td>\n",
       "      <td>23</td>\n",
       "      <td>53.0</td>\n",
       "    </tr>\n",
       "    <tr>\n",
       "      <th>9</th>\n",
       "      <td>323</td>\n",
       "      <td>2019-01-31 23:59:47.568</td>\n",
       "      <td>2019-02-01 00:05:11.177</td>\n",
       "      <td>37.764765</td>\n",
       "      <td>-122.420091</td>\n",
       "      <td>37.758862</td>\n",
       "      <td>-122.412544</td>\n",
       "      <td>1976</td>\n",
       "      <td>Subscriber</td>\n",
       "      <td>No</td>\n",
       "      <td>NaN</td>\n",
       "      <td>January</td>\n",
       "      <td>Thu</td>\n",
       "      <td>23</td>\n",
       "      <td>5.0</td>\n",
       "    </tr>\n",
       "  </tbody>\n",
       "</table>\n",
       "</div>"
      ],
      "text/plain": [
       "   duration_sec              start_time                end_time  \\\n",
       "0         80825 2019-01-31 17:57:44.613 2019-02-01 16:24:49.864   \n",
       "1         65900 2019-01-31 20:58:33.886 2019-02-01 15:16:54.173   \n",
       "2         62633 2019-01-31 18:06:52.924 2019-02-01 11:30:46.530   \n",
       "3         44680 2019-01-31 19:46:09.719 2019-02-01 08:10:50.318   \n",
       "4         60709 2019-01-31 14:19:01.541 2019-02-01 07:10:51.065   \n",
       "5          6733 2019-01-31 22:35:50.813 2019-02-01 00:28:04.512   \n",
       "6          1188 2019-01-31 23:54:38.901 2019-02-01 00:14:27.900   \n",
       "7          1254 2019-01-31 23:48:50.092 2019-02-01 00:09:44.497   \n",
       "8          3153 2019-01-31 23:17:05.462 2019-02-01 00:09:39.457   \n",
       "9           323 2019-01-31 23:59:47.568 2019-02-01 00:05:11.177   \n",
       "\n",
       "   start_station_latitude  start_station_longitude  end_station_latitude  \\\n",
       "0               37.775745              -122.213037             37.808894   \n",
       "1               37.785881              -122.408915             37.752428   \n",
       "2               37.870139              -122.268422             37.846784   \n",
       "3               37.770083              -122.429156             37.775946   \n",
       "4               37.794130              -122.394430             37.787168   \n",
       "5               37.870139              -122.268422             37.862464   \n",
       "6               37.783988              -122.412408             37.742314   \n",
       "7               37.330698              -121.888979             37.333988   \n",
       "8               37.782405              -122.439446             37.773311   \n",
       "9               37.764765              -122.420091             37.758862   \n",
       "\n",
       "   end_station_longitude  bike_id   user_type bike_share_for_all_trip  \\\n",
       "0            -122.256460     4861  Subscriber                      No   \n",
       "1            -122.420628     5506  Subscriber                      No   \n",
       "2            -122.291376     2717    Customer                      No   \n",
       "3            -122.437777     4557    Customer                      No   \n",
       "4            -122.388098     2100    Customer                      No   \n",
       "5            -122.264791     3532  Subscriber                      No   \n",
       "6            -122.423180     5114  Subscriber                      No   \n",
       "7            -121.894902     3967  Subscriber                      No   \n",
       "8            -122.444293     4813  Subscriber                      No   \n",
       "9            -122.412544     1976  Subscriber                      No   \n",
       "\n",
       "  rental_access_method    month  day  hour  duration_mins  \n",
       "0                  NaN  January  Thu    17         1347.0  \n",
       "1                  NaN  January  Thu    20         1098.0  \n",
       "2                  NaN  January  Thu    18         1044.0  \n",
       "3                  NaN  January  Thu    19          745.0  \n",
       "4                  NaN  January  Thu    14         1012.0  \n",
       "5                  NaN  January  Thu    22          112.0  \n",
       "6                  NaN  January  Thu    23           20.0  \n",
       "7                  NaN  January  Thu    23           21.0  \n",
       "8                  NaN  January  Thu    23           53.0  \n",
       "9                  NaN  January  Thu    23            5.0  "
      ]
     },
     "execution_count": 47,
     "metadata": {},
     "output_type": "execute_result"
    }
   ],
   "source": [
    "bike_clean_df.head(10)"
   ]
  },
  {
   "cell_type": "code",
   "execution_count": 143,
   "metadata": {
    "scrolled": true
   },
   "outputs": [
    {
     "name": "stdout",
     "output_type": "stream",
     "text": [
      "<class 'pandas.core.frame.DataFrame'>\n",
      "RangeIndex: 4370704 entries, 0 to 4370703\n",
      "Data columns (total 19 columns):\n",
      " #   Column                   Dtype         \n",
      "---  ------                   -----         \n",
      " 0   duration_sec             int64         \n",
      " 1   start_time               datetime64[ns]\n",
      " 2   end_time                 datetime64[ns]\n",
      " 3   start_station_id         float64       \n",
      " 4   start_station_name       object        \n",
      " 5   start_station_latitude   float64       \n",
      " 6   start_station_longitude  float64       \n",
      " 7   end_station_id           float64       \n",
      " 8   end_station_name         object        \n",
      " 9   end_station_latitude     float64       \n",
      " 10  end_station_longitude    float64       \n",
      " 11  bike_id                  int64         \n",
      " 12  user_type                category      \n",
      " 13  bike_share_for_all_trip  object        \n",
      " 14  rental_access_method     object        \n",
      " 15  month                    object        \n",
      " 16  day                      object        \n",
      " 17  hour                     int64         \n",
      " 18  duration_mins            float64       \n",
      "dtypes: category(1), datetime64[ns](2), float64(7), int64(3), object(6)\n",
      "memory usage: 604.4+ MB\n"
     ]
    }
   ],
   "source": [
    "bike_clean_df.info()"
   ]
  },
  {
   "cell_type": "code",
   "execution_count": 42,
   "metadata": {},
   "outputs": [],
   "source": [
    "#create a new data frame with only selected fields\n",
    "bike_clean_df=bike_clean_df.drop([ 'start_station_id' ,'start_station_name' ,'end_station_id', \n",
    "                           'end_station_name' ], axis = 1) "
   ]
  },
  {
   "cell_type": "code",
   "execution_count": 15,
   "metadata": {},
   "outputs": [
    {
     "name": "stdout",
     "output_type": "stream",
     "text": [
      "<class 'pandas.core.frame.DataFrame'>\n",
      "RangeIndex: 4370704 entries, 0 to 4370703\n",
      "Data columns (total 15 columns):\n",
      " #   Column                   Dtype         \n",
      "---  ------                   -----         \n",
      " 0   duration_sec             int64         \n",
      " 1   start_time               datetime64[ns]\n",
      " 2   end_time                 datetime64[ns]\n",
      " 3   start_station_latitude   float64       \n",
      " 4   start_station_longitude  float64       \n",
      " 5   end_station_latitude     float64       \n",
      " 6   end_station_longitude    float64       \n",
      " 7   bike_id                  int64         \n",
      " 8   user_type                category      \n",
      " 9   bike_share_for_all_trip  object        \n",
      " 10  rental_access_method     object        \n",
      " 11  month                    object        \n",
      " 12  day                      object        \n",
      " 13  hour                     int64         \n",
      " 14  duration_mins            float64       \n",
      "dtypes: category(1), datetime64[ns](2), float64(5), int64(3), object(4)\n",
      "memory usage: 471.0+ MB\n"
     ]
    }
   ],
   "source": [
    "bike_clean_df.info()"
   ]
  },
  {
   "cell_type": "markdown",
   "metadata": {},
   "source": [
    "# Univariate Exploration"
   ]
  },
  {
   "cell_type": "code",
   "execution_count": 144,
   "metadata": {},
   "outputs": [
    {
     "data": {
      "text/plain": [
       "(array([ 0,  1,  2,  3,  4,  5,  6,  7,  8,  9, 10, 11]),\n",
       " <a list of 12 Text major ticklabel objects>)"
      ]
     },
     "execution_count": 144,
     "metadata": {},
     "output_type": "execute_result"
    },
    {
     "data": {
      "image/png": "[encoded data removed]",
      "text/plain": [
       "<Figure size 432x288 with 1 Axes>"
      ]
     },
     "metadata": {
      "needs_background": "light"
     },
     "output_type": "display_data"
    }
   ],
   "source": [
    "# monthly usage of bike \n",
    "base_color = sb.color_palette()[0]\n",
    "sb.countplot(data = bike_clean_df, x = 'month',  color = base_color)\n",
    "plt.ylabel('Number of Bike Trips')\n",
    "plt.xlabel('Month')\n",
    "plt.xticks(rotation=90)"
   ]
  },
  {
   "cell_type": "code",
   "execution_count": 145,
   "metadata": {},
   "outputs": [
    {
     "data": {
      "text/plain": [
       "(array([0, 1, 2, 3, 4, 5, 6]), <a list of 7 Text major ticklabel objects>)"
      ]
     },
     "execution_count": 145,
     "metadata": {},
     "output_type": "execute_result"
    },
    {
     "data": {
      "image/png": "[encoded data removed]",
      "text/plain": [
       "<Figure size 432x288 with 1 Axes>"
      ]
     },
     "metadata": {
      "needs_background": "light"
     },
     "output_type": "display_data"
    }
   ],
   "source": [
    "# weekday usage of bike \n",
    "weekday = ['Mon', 'Tue', 'Wed', 'Thu', 'Fri', 'Sat', 'Sun']\n",
    "base_color = sb.color_palette()[0]\n",
    "sb.countplot(data = bike_clean_df, x = 'day',  color = base_color ,order = weekday)\n",
    "plt.ylabel('Number of Bike Trips')\n",
    "plt.xlabel('day')\n",
    "plt.xticks(rotation=90)\n"
   ]
  },
  {
   "cell_type": "code",
   "execution_count": 146,
   "metadata": {},
   "outputs": [
    {
     "data": {
      "text/plain": [
       "(array([ 0,  1,  2,  3,  4,  5,  6,  7,  8,  9, 10, 11, 12, 13, 14, 15, 16,\n",
       "        17, 18, 19, 20, 21, 22, 23]),\n",
       " <a list of 24 Text major ticklabel objects>)"
      ]
     },
     "execution_count": 146,
     "metadata": {},
     "output_type": "execute_result"
    },
    {
     "data": {
      "image/png": "[encoded data removed]",
      "text/plain": [
       "<Figure size 432x288 with 1 Axes>"
      ]
     },
     "metadata": {
      "needs_background": "light"
     },
     "output_type": "display_data"
    }
   ],
   "source": [
    "# Hourly usage of bike \n",
    "\n",
    "base_color = sb.color_palette()[0]\n",
    "sb.countplot(data = bike_clean_df, x = 'hour',  color = base_color )\n",
    "plt.ylabel('Number of Bike Trips')\n",
    "plt.xlabel('hour')\n",
    "plt.xticks(rotation=90)\n"
   ]
  },
  {
   "cell_type": "code",
   "execution_count": 147,
   "metadata": {},
   "outputs": [
    {
     "data": {
      "text/plain": [
       "(array([    0,     1,     2, ..., 21755, 21756, 21757]),\n",
       " <a list of 21758 Text major ticklabel objects>)"
      ]
     },
     "execution_count": 147,
     "metadata": {},
     "output_type": "execute_result"
    },
    {
     "data": {
      "image/png": "[encoded data removed]",
      "text/plain": [
       "<Figure size 432x288 with 1 Axes>"
      ]
     },
     "metadata": {
      "needs_background": "light"
     },
     "output_type": "display_data"
    }
   ],
   "source": [
    "# Bike ride duartion\n",
    "\n",
    "base_color = sb.color_palette()[0]\n",
    "sb.countplot(data = bike_clean_df, x = 'duration_mins',  color = base_color )\n",
    "plt.ylabel('Number of Bike Trips')\n",
    "plt.xlabel('duration_mins')\n",
    "plt.xticks(rotation=90)\n"
   ]
  },
  {
   "cell_type": "code",
   "execution_count": 82,
   "metadata": {},
   "outputs": [
    {
     "data": {
      "image/png": "[encoded data removed]",
      "text/plain": [
       "<Figure size 432x288 with 1 Axes>"
      ]
     },
     "metadata": {
      "needs_background": "light"
     },
     "output_type": "display_data"
    }
   ],
   "source": [
    "# duration value ranges from 1 min to 15201 minutes , which is a wide range\n",
    "# regular graph plot shows data is right skewed\n",
    "bin_edges = 2 ** np.arange(0, np.log2(2048), 1)\n",
    "plt.hist(bike_clean_df[ 'duration_mins'], bins=bin_edges)\n",
    "\n",
    "# Scale the plot (minimum duration actually is 61 sec > 1 min)\n",
    "plt.xscale('log', basex=2)\n",
    "xtick_locs = [1, 2, 4, 8, 16, 32, 64, 128, 256, 512, 1024, 2048]\n",
    "plt.xticks(xtick_locs, xtick_locs);"
   ]
  },
  {
   "cell_type": "markdown",
   "metadata": {},
   "source": [
    "# Bivariate Exploration"
   ]
  },
  {
   "cell_type": "code",
   "execution_count": 16,
   "metadata": {},
   "outputs": [
    {
     "data": {
      "text/plain": [
       "(array([ 0,  1,  2,  3,  4,  5,  6,  7,  8,  9, 10, 11]),\n",
       " <a list of 12 Text major ticklabel objects>)"
      ]
     },
     "execution_count": 16,
     "metadata": {},
     "output_type": "execute_result"
    },
    {
     "data": {
      "image/png": "[encoded data removed]",
      "text/plain": [
       "<Figure size 576x576 with 1 Axes>"
      ]
     },
     "metadata": {
      "needs_background": "light"
     },
     "output_type": "display_data"
    }
   ],
   "source": [
    "plt.figure(figsize=(8, 8))\n",
    "sb.countplot(data = bike_clean_df, x = 'month', hue = 'user_type', palette=[\"C0\", \"C1\"])\n",
    "plt.ylabel('Number of Bike Trips')\n",
    "plt.xlabel('Month')\n",
    "plt.xticks(rotation=90)\n"
   ]
  },
  {
   "cell_type": "code",
   "execution_count": 17,
   "metadata": {},
   "outputs": [
    {
     "data": {
      "image/png": "[encoded data removed]",
      "text/plain": [
       "<Figure size 576x576 with 1 Axes>"
      ]
     },
     "metadata": {
      "needs_background": "light"
     },
     "output_type": "display_data"
    }
   ],
   "source": [
    "# user_type by day\n",
    "\n",
    "# Customer Usage by Weekday vs. Subscriber Usage by Weekday\n",
    "plt.figure(figsize=(8,8))\n",
    "\n",
    "user_by_day = bike_clean_df.groupby(['day', 'user_type']).size().reset_index()\n",
    "weekday = ['Mon', 'Tue', 'Wed', 'Thu', 'Fri', 'Sat', 'Sun']\n",
    "\n",
    "ax = sb.pointplot(data=user_by_day, x='day', y=0, hue = 'user_type', order = weekday);\n",
    "\n",
    "plt.xlabel('Day')\n",
    "plt.ylabel('Number of Bike Trips');\n",
    "plt.grid()"
   ]
  },
  {
   "cell_type": "code",
   "execution_count": 49,
   "metadata": {},
   "outputs": [
    {
     "data": {
      "image/png": "[encoded data removed]",
      "text/plain": [
       "<Figure size 1440x360 with 2 Axes>"
      ]
     },
     "metadata": {
      "needs_background": "light"
     },
     "output_type": "display_data"
    }
   ],
   "source": [
    "# Customer Usage by Duration vs. Subscriber Usage by Duration\n",
    "base_color = sb.color_palette()[0]\n",
    "data = bike_clean_df.query('duration_mins < 30 ')\n",
    "data.head(10)\n",
    "\n",
    "graph = sb.catplot(data=data, x = 'duration_mins', col='user_type', kind='count', sharey = False, color = base_color, height=5, aspect=2);\n",
    "\n",
    "graph.set_axis_labels('Bike Ride Duration', 'Number of Bike Trips')\n",
    "graph.set_titles('{col_name}')\n",
    "\n",
    "\n",
    "graph.set_xticklabels(rotation=75);"
   ]
  },
  {
   "cell_type": "code",
   "execution_count": 51,
   "metadata": {},
   "outputs": [
    {
     "data": {
      "text/plain": [
       "-122.417385    45058\n",
       "-122.393170    42962\n",
       "-122.395282    40302\n",
       "-122.394203    39016\n",
       "-122.395526    36576\n",
       "               ...  \n",
       "-122.411542        1\n",
       "-122.431218        1\n",
       "-122.409341        1\n",
       "-121.875311        1\n",
       "-122.410916        1\n",
       "Name: start_station_longitude, Length: 75943, dtype: int64"
      ]
     },
     "execution_count": 51,
     "metadata": {},
     "output_type": "execute_result"
    }
   ],
   "source": [
    "data = bike_clean_df.query('duration_mins < 30 & duration_mins > 10')\n",
    "data.describe()\n",
    "\n",
    "bike_clean_df.start_station_longitude.value_counts()"
   ]
  },
  {
   "cell_type": "code",
   "execution_count": 60,
   "metadata": {},
   "outputs": [
    {
     "data": {
      "text/plain": [
       "San Fransicio    1852856\n",
       "East Bay          515687\n",
       "San Jose          138327\n",
       "others               113\n",
       "Name: start_area_name, dtype: int64"
      ]
     },
     "execution_count": 60,
     "metadata": {},
     "output_type": "execute_result"
    }
   ],
   "source": [
    "bike_clean_df['start_area_name'] = bike_clean_df['start_station_longitude'].apply(lambda x: 'San Fransicio' if -122.5<=x<-122.33\n",
    "                                                  else 'East Bay' if -122.33<=x<-122.1\n",
    "                                                  else 'San Jose' if -122.1<=x<-121.8\n",
    "                                                       else 'others')\n",
    "\n",
    "bike_clean_df.start_area_name.value_counts()"
   ]
  },
  {
   "cell_type": "markdown",
   "metadata": {},
   "source": [
    "# Multivariate Exploration"
   ]
  },
  {
   "cell_type": "code",
   "execution_count": 64,
   "metadata": {},
   "outputs": [],
   "source": [
    "bike_clean_df.start_area_name.value_counts()\n",
    "\n",
    "\n",
    "subscriber_area_df = bike_clean_df[bike_clean_df['user_type'] == 'Subscriber'].groupby(['month', 'start_area_name']).agg({'bike_id':'count'}).reset_index()"
   ]
  },
  {
   "cell_type": "code",
   "execution_count": 69,
   "metadata": {},
   "outputs": [
    {
     "data": {
      "image/png": "[encoded data removed]",
      "text/plain": [
       "<Figure size 1080x576 with 1 Axes>"
      ]
     },
     "metadata": {
      "needs_background": "light"
     },
     "output_type": "display_data"
    }
   ],
   "source": [
    "# Comparing monthly number of bike trips per subscribers, based on location area \n",
    "plt.figure(figsize = (15,8))\n",
    "\n",
    "months = ['January', 'February', 'March', 'April', 'May', 'June', 'July', 'August', 'September', 'October', 'November', 'December']\n",
    "\n",
    "ax = sb.pointplot(data = subscriber_area_df, x='month', y='bike_id', hue='start_area_name', order = months,scale=.6,  height=5, aspect=2);\n",
    "\n",
    "plt.xlabel('Month', labelpad = 16)\n",
    "plt.ylabel('Number of Bike Trips', labelpad = 16)\n",
    "\n",
    "# Legend\n",
    "leg = ax.legend()\n",
    "leg.set_title('start_area_name', prop={'size': 16})\n",
    "\n",
    "plt.show()"
   ]
  },
  {
   "cell_type": "code",
   "execution_count": 70,
   "metadata": {},
   "outputs": [
    {
     "data": {
      "image/png": "[encoded data removed]",
      "text/plain": [
       "<Figure size 1542x360 with 2 Axes>"
      ]
     },
     "metadata": {
      "needs_background": "light"
     },
     "output_type": "display_data"
    }
   ],
   "source": [
    "\n",
    "# Monthly usage - user type and Area\n",
    "\n",
    "graph = sb.catplot(data=bike_clean_df, x='month', col=\"user_type\", hue=\"start_area_name\", kind='count', sharey = False, height=5, aspect=2);\n",
    "\n",
    "graph.set_axis_labels(\"Month\", \"Number of Bike Trips\")\n",
    "graph._legend.set_title('Area')\n",
    "graph.set_titles(\"{col_name}\")\n",
    "\n",
    "\n",
    "graph.set_xticklabels(rotation=75);"
   ]
  },
  {
   "cell_type": "code",
   "execution_count": 74,
   "metadata": {},
   "outputs": [
    {
     "data": {
      "image/png": "[encoded data removed]",
      "text/plain": [
       "<Figure size 822x360 with 1 Axes>"
      ]
     },
     "metadata": {
      "needs_background": "light"
     },
     "output_type": "display_data"
    }
   ],
   "source": [
    "\n",
    "# Violinplot - duration (min) per user type and area\n",
    "data = bike_clean_df.query('duration_mins < 30')\n",
    "graph = sb.catplot(data=data, x='user_type', y=\"duration_mins\", hue=\"start_area_name\", kind=\"violin\", height=5, aspect=2);\n",
    "\n",
    "graph.set_axis_labels(\"User Type\", \"Trip Duration \")\n",
    "graph._legend.set_title('start_area_name')\n"
   ]
  }
 ],
 "metadata": {
  "kernelspec": {
   "display_name": "Python 3",
   "language": "python",
   "name": "python3"
  },
  "language_info": {
   "codemirror_mode": {
    "name": "ipython",
    "version": 3
   },
   "file_extension": ".py",
   "mimetype": "text/x-python",
   "name": "python",
   "nbconvert_exporter": "python",
   "pygments_lexer": "ipython3",
   "version": "3.7.7"
  }
 },
 "nbformat": 4,
 "nbformat_minor": 2
}
